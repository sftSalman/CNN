{
  "nbformat": 4,
  "nbformat_minor": 0,
  "metadata": {
    "colab": {
      "name": "Cov_stepBystep.ipynb",
      "provenance": [],
      "authorship_tag": "ABX9TyM2g95Sz6j3sYAA5Scx9qdq",
      "include_colab_link": true
    },
    "kernelspec": {
      "name": "python3",
      "display_name": "Python 3"
    },
    "language_info": {
      "name": "python"
    }
  },
  "cells": [
    {
      "cell_type": "markdown",
      "metadata": {
        "id": "view-in-github",
        "colab_type": "text"
      },
      "source": [
        "<a href=\"https://colab.research.google.com/github/sftSalman/CNN/blob/main/Cov_stepBystep.ipynb\" target=\"_parent\"><img src=\"https://colab.research.google.com/assets/colab-badge.svg\" alt=\"Open In Colab\"/></a>"
      ]
    },
    {
      "cell_type": "code",
      "execution_count": 1,
      "metadata": {
        "id": "cluQsRyGknJl"
      },
      "outputs": [],
      "source": [
        "import numpy as np \n",
        "import matplotlib.pyplot as plt\n"
      ]
    },
    {
      "cell_type": "code",
      "source": [
        "def zero_pad(X,pad):\n",
        "  X_pad = np.pad(X,((0,0),(pad,pad),(pad,pad),(0,0)),constant_values = 0.0)\n",
        "\n",
        "  return X_pad"
      ],
      "metadata": {
        "id": "k_lemINfk0Zt"
      },
      "execution_count": 7,
      "outputs": []
    },
    {
      "cell_type": "code",
      "source": [
        "np.random.seed(1)\n",
        "x = np.random.randn(4,3,3,2)\n",
        "x_pad = zero_pad(x,2)\n",
        "\n",
        "fig , ax = plt.subplots(1,2)\n",
        "ax[0].imshow(x[0,:,:,0])\n",
        "ax[1].imshow(x_pad[0,:,:,0])"
      ],
      "metadata": {
        "colab": {
          "base_uri": "https://localhost:8080/",
          "height": 224
        },
        "id": "uufpUkUKlVTN",
        "outputId": "860c1129-072e-4a56-e9a5-6f8dfc592a6e"
      },
      "execution_count": 9,
      "outputs": [
        {
          "output_type": "execute_result",
          "data": {
            "text/plain": [
              "<matplotlib.image.AxesImage at 0x7fdaa2564fd0>"
            ]
          },
          "metadata": {},
          "execution_count": 9
        },
        {
          "output_type": "display_data",
          "data": {
            "text/plain": [
              "<Figure size 432x288 with 2 Axes>"
            ],
            "image/png": "[encoded data removed]"
          },
          "metadata": {
            "needs_background": "light"
          }
        }
      ]
    },
    {
      "cell_type": "code",
      "source": [
        "x = np.random.randn(4,3,3,2)|"
      ],
      "metadata": {
        "id": "CEnkFDD7lbYj"
      },
      "execution_count": null,
      "outputs": []
    },
    {
      "cell_type": "code",
      "source": [
        "print(x[,:,:0])"
      ],
      "metadata": {
        "colab": {
          "base_uri": "https://localhost:8080/"
        },
        "id": "0KZb0BHizTfD",
        "outputId": "b32f7227-fbe8-4e7c-ff46-b932bcd9b389"
      },
      "execution_count": null,
      "outputs": [
        {
          "output_type": "stream",
          "name": "stdout",
          "text": [
            "[]\n"
          ]
        }
      ]
    },
    {
      "cell_type": "code",
      "source": [
        "x"
      ],
      "metadata": {
        "colab": {
          "base_uri": "https://localhost:8080/"
        },
        "id": "Q4Zp3fuVzNkk",
        "outputId": "cc3d2bb1-dece-43d5-b180-f3d0166e296f"
      },
      "execution_count": null,
      "outputs": [
        {
          "output_type": "execute_result",
          "data": {
            "text/plain": [
              "array([[[[ 0.16003707,  0.87616892],\n",
              "         [ 0.31563495, -2.02220122],\n",
              "         [-0.30620401,  0.82797464]],\n",
              "\n",
              "        [[ 0.23009474,  0.76201118],\n",
              "         [-0.22232814, -0.20075807],\n",
              "         [ 0.18656139,  0.41005165]],\n",
              "\n",
              "        [[ 0.19829972,  0.11900865],\n",
              "         [-0.67066229,  0.37756379],\n",
              "         [ 0.12182127,  1.12948391]]],\n",
              "\n",
              "\n",
              "       [[[ 1.19891788,  0.18515642],\n",
              "         [-0.37528495, -0.63873041],\n",
              "         [ 0.42349435,  0.07734007]],\n",
              "\n",
              "        [[-0.34385368,  0.04359686],\n",
              "         [-0.62000084,  0.69803203],\n",
              "         [-0.44712856,  1.2245077 ]],\n",
              "\n",
              "        [[ 0.40349164,  0.59357852],\n",
              "         [-1.09491185,  0.16938243],\n",
              "         [ 0.74055645, -0.9537006 ]]],\n",
              "\n",
              "\n",
              "       [[[-0.26621851,  0.03261455],\n",
              "         [-1.37311732,  0.31515939],\n",
              "         [ 0.84616065, -0.85951594]],\n",
              "\n",
              "        [[ 0.35054598, -1.31228341],\n",
              "         [-0.03869551, -1.61577235],\n",
              "         [ 1.12141771,  0.40890054]],\n",
              "\n",
              "        [[-0.02461696, -0.77516162],\n",
              "         [ 1.27375593,  1.96710175],\n",
              "         [-1.85798186,  1.23616403]]],\n",
              "\n",
              "\n",
              "       [[[ 1.62765075,  0.3380117 ],\n",
              "         [-1.19926803,  0.86334532],\n",
              "         [-0.1809203 , -0.60392063]],\n",
              "\n",
              "        [[-1.23005814,  0.5505375 ],\n",
              "         [ 0.79280687, -0.62353073],\n",
              "         [ 0.52057634, -1.14434139]],\n",
              "\n",
              "        [[ 0.80186103,  0.0465673 ],\n",
              "         [-0.18656977, -0.10174587],\n",
              "         [ 0.86888616,  0.75041164]]]])"
            ]
          },
          "metadata": {},
          "execution_count": 11
        }
      ]
    },
    {
      "cell_type": "code",
      "source": [
        "def conv_single_step(a_slice_prev,W,b):\n",
        "\n",
        "  s = np.multiply(a_slice_prev,W)\n",
        "  m = np.sum(s)\n",
        "  Z = m + float(b)\n",
        "  return Z"
      ],
      "metadata": {
        "id": "OQfZ0xPRzOkM"
      },
      "execution_count": 41,
      "outputs": []
    },
    {
      "cell_type": "code",
      "source": [
        "np.random.seed(1)\n",
        "a_slice_prev = np.random.randn(4, 4, 3)\n",
        "W = np.random.randn(4, 4, 3)\n",
        "b = np.random.randn(1, 1, 1)\n",
        "\n",
        "Z = conv_single_step(a_slice_prev, W, b)\n",
        "print(\"Z =\", Z)"
      ],
      "metadata": {
        "colab": {
          "base_uri": "https://localhost:8080/"
        },
        "id": "KIss9Mq1f6XO",
        "outputId": "edd58435-42bb-48a1-cd34-f5227f067c58"
      },
      "execution_count": 42,
      "outputs": [
        {
          "output_type": "stream",
          "name": "stdout",
          "text": [
            "Z = -6.999089450680221\n"
          ]
        }
      ]
    },
    {
      "cell_type": "code",
      "source": [
        "def conv_forward(A_prev,W,b,hparameters):\n",
        "\n",
        "  (m,n_H_prev,n_W_prev,n_C_prev)= A_prev.shape\n",
        "  #(f,f,prev_C,n_C) = W.shape\n",
        "  (f, f, n_C_prev, n_C) = W.shape\n",
        "\n",
        "  stride = hparameters['stride']\n",
        "  pad = hparameters['pad']\n",
        "\n",
        "  #n_H = int((n_H -f + 2 * pad/stride) + 1 )\n",
        "  #n_W = int((n_W -f + 2 * pad /stride)+ 1)\n",
        "  n_H = int((n_H_prev - f + 2 * pad) / stride + 1)\n",
        "  n_W = int((n_W_prev - f + 2 * pad) / stride + 1)\n",
        "  \n",
        "  #Z = np.zeros((m,n_H,n_W,n_C))\n",
        "  Z = np.zeros((m, n_H, n_W, n_C))\n",
        "  #padding_input = zero_pad(prev_input,pad)\n",
        "  A_prev_pad = zero_pad(A_prev, pad)\n",
        "\n",
        "  for i in range(m):\n",
        "    #input_pad = padding_input[i,:,:,:]\n",
        "    a_prev_pad = A_prev_pad[i, :, :, :]  \n",
        "    for h in range(n_H):\n",
        "      for w in range(n_W):\n",
        "        for c in range(n_C):\n",
        "          vert_start = h\n",
        "          vert_end = vert_start + f\n",
        "          horiz_start = w\n",
        "          horiz_end = horiz_start + f \n",
        "          #input_conv_slice = padding_input[vert_start:vert_end,horiz_start:horiz_end,:]\n",
        "          a_slice_prev = a_prev_pad[vert_start: vert_end, horiz_start: horiz_end, :]\n",
        "         # Z[i,h,w,c] = conv_single_step(input_conv_slice,W[:,:,:,c],b[:,:,:,c])\n",
        "          Z[i, h, w, c] = conv_single_step(a_slice_prev, W[:, :, :, c], b[:, :, :, c])\n",
        "\n",
        "          #cache = (W,b,hparameter,prev_input)\n",
        "          cache = (A_prev, b, W, hparameters)\n",
        "\n",
        "          return cache, Z\n",
        "\n",
        "\n",
        "\n",
        "  "
      ],
      "metadata": {
        "id": "2RBuKFdYgENx"
      },
      "execution_count": 60,
      "outputs": []
    },
    {
      "cell_type": "code",
      "source": [
        "def conv_forward(A_prev, W, b, hparameters):\n",
        "#def conv_forward(A_prev,W,b,hparameters):    \n",
        "   (m, n_H_prev, n_W_prev, n_C_prev) = A_prev.shape\n",
        "    #(m,n_H_prev,n_W_prev,n_C_prev)= A_prev.shape\n",
        "  \n",
        "    (f, f, n_C_prev, n_C) = W.shape\n",
        "    #(f, f, n_C_prev, n_C) = W.shape\n",
        "    \n",
        "    stride = hparameters[\"stride\"]\n",
        "    pad = hparameters[\"pad\"]\n",
        "    #stride = hparameters['stride']\n",
        "    #pad = hparameters['pad']\n",
        "    \n",
        "  \n",
        "    n_H = int((n_H_prev - f + 2 * pad) / stride + 1)\n",
        "    n_W = int((n_W_prev - f + 2 * pad) / stride + 1)\n",
        "    #n_H = int((n_H_prev - f + 2 * pad) / stride + 1)\n",
        "    #n_W = int((n_W_prev - f + 2 * pad) / stride + 1)\n",
        "    \n",
        "    Z = np.zeros((m, n_H, n_W, n_C))\n",
        "    #Z = np.zeros((m, n_H, n_W, n_C))\n",
        "    \n",
        "\n",
        "    A_prev_pad = zero_pad(A_prev, pad)\n",
        "   # A_prev_pad = zero_pad(A_prev, pad)\n",
        "    \n",
        "    for i in range(m):                               # loop over the batch of training examples\n",
        "       # a_prev_pad = A_prev_pad[i, :, :, :] \n",
        "        a_prev_pad = A_prev_pad[i, :, :, :]           # Select ith training example's padded activation\n",
        "        for h in range(n_H):                           # loop over vertical axis of the output volume\n",
        "            for w in range(n_W):                       # loop over horizontal axis of the output volume\n",
        "                for c in range(n_C):                   # loop over channels (= #filters) of the output volume\n",
        "                    \n",
        "              \n",
        "                   vert_start = h\n",
        "                   vert_end = vert_start + f\n",
        "                   horiz_start = w\n",
        "                   horiz_end = horiz_start + f \n",
        "                    \n",
        "                   \n",
        "                    a_slice_prev = a_prev_pad[vert_start: vert_end, horiz_start: horiz_end, :]\n",
        "                    #a_slice_prev = a_prev_pad[vert_start: vert_end, horiz_start: horiz_end, :]\n",
        "                    \n",
        "                    Z[i, h, w, c] = conv_single_step(a_slice_prev, W[:, :, :, c], b[:, :, :, c])\n",
        "                    #Z[i, h, w, c] = conv_single_step(a_slice_prev, W[:, :, :, c], b[:, :, :, c])\n",
        "                   \n",
        "   \n",
        "    \n",
        "   \n",
        "    cache = (A_prev, b, W, hparameters)\n",
        "    \n",
        "    return Z, cache"
      ],
      "metadata": {
        "colab": {
          "base_uri": "https://localhost:8080/",
          "height": 144
        },
        "id": "kH3CU12puvKh",
        "outputId": "d097e1cc-f097-4c17-815a-c9764cb87d37"
      },
      "execution_count": 61,
      "outputs": [
        {
          "output_type": "error",
          "ename": "IndentationError",
          "evalue": "ignored",
          "traceback": [
            "\u001b[0;36m  File \u001b[0;32m\"<ipython-input-61-9f12044b1a13>\"\u001b[0;36m, line \u001b[0;32m6\u001b[0m\n\u001b[0;31m    (f, f, n_C_prev, n_C) = W.shape\u001b[0m\n\u001b[0m    ^\u001b[0m\n\u001b[0;31mIndentationError\u001b[0m\u001b[0;31m:\u001b[0m unexpected indent\n"
          ]
        }
      ]
    },
    {
      "cell_type": "code",
      "source": [
        "np.random.seed(1)\n",
        "prev_input = np.random.randn(10,4,4,3)\n",
        "W = np.random.randn(2,2,3,8)\n",
        "b = np.random.randn(1,1,1,8)\n",
        "hparameters = {\"pad\" : 2,\n",
        "               \"stride\": 2}\n",
        "\n",
        "Z, cache_conv = conv_forward(prev_input, W, b, hparameters)\n",
        "print(\"Z's mean =\", np.mean(Z))\n",
        "print(\"Z[3,2,1] =\", Z[3,2,1])\n",
        "print(\"cache_conv[0][1][2][3] =\", cache_conv[0][1][2][3])"
      ],
      "metadata": {
        "colab": {
          "base_uri": "https://localhost:8080/"
        },
        "id": "lKC4fFR4gmQ8",
        "outputId": "3009532d-c59d-4cec-fd76-7340aabdd657"
      },
      "execution_count": 59,
      "outputs": [
        {
          "output_type": "stream",
          "name": "stdout",
          "text": [
            "Z's mean = -0.007801972093158612\n",
            "Z[3,2,1] = [ 0.10709871 -0.03102354 -0.52995452  0.98611224  0.65733641 -0.84239368\n",
            " -0.04608241  0.08802027]\n",
            "cache_conv[0][1][2][3] = [-0.20075807  0.18656139  0.41005165]\n"
          ]
        }
      ]
    },
    {
      "cell_type": "code",
      "source": [
        "np.random.seed(1)\n",
        "A_prev = np.random.randn(10,4,4,3)\n",
        "W = np.random.randn(2,2,3,8)\n",
        "b = np.random.randn(1,1,1,8)\n",
        "hparameters = {\"pad\" : 2,\n",
        "               \"stride\": 2}\n",
        "\n",
        "Z, cache_conv = conv_forward(A_prev, W, b, hparameters)\n",
        "print(\"Z's mean =\", np.mean(Z))\n",
        "print(\"Z[3,2,1] =\", Z[3,2,1])\n",
        "print(\"cache_conv[0][1][2][3] =\", cache_conv[0][1][2][3])"
      ],
      "metadata": {
        "colab": {
          "base_uri": "https://localhost:8080/",
          "height": 541
        },
        "id": "WUN9pJqOtwkk",
        "outputId": "8dd16407-8249-4d39-f5b2-5ded72a5e9d6"
      },
      "execution_count": 53,
      "outputs": [
        {
          "output_type": "stream",
          "name": "stderr",
          "text": [
            "/usr/local/lib/python3.7/dist-packages/numpy/core/_methods.py:163: VisibleDeprecationWarning: Creating an ndarray from ragged nested sequences (which is a list-or-tuple of lists-or-tuples-or ndarrays with different lengths or shapes) is deprecated. If you meant to do this, you must specify 'dtype=object' when creating the ndarray.\n",
            "  arr = asanyarray(a)\n"
          ]
        },
        {
          "output_type": "error",
          "ename": "ValueError",
          "evalue": "ignored",
          "traceback": [
            "\u001b[0;31m---------------------------------------------------------------------------\u001b[0m",
            "\u001b[0;31mValueError\u001b[0m                                Traceback (most recent call last)",
            "\u001b[0;32m<ipython-input-53-94716e1e7566>\u001b[0m in \u001b[0;36m<module>\u001b[0;34m()\u001b[0m\n\u001b[1;32m      7\u001b[0m \u001b[0;34m\u001b[0m\u001b[0m\n\u001b[1;32m      8\u001b[0m \u001b[0mZ\u001b[0m\u001b[0;34m,\u001b[0m \u001b[0mcache_conv\u001b[0m \u001b[0;34m=\u001b[0m \u001b[0mconv_forward\u001b[0m\u001b[0;34m(\u001b[0m\u001b[0mA_prev\u001b[0m\u001b[0;34m,\u001b[0m \u001b[0mW\u001b[0m\u001b[0;34m,\u001b[0m \u001b[0mb\u001b[0m\u001b[0;34m,\u001b[0m \u001b[0mhparameters\u001b[0m\u001b[0;34m)\u001b[0m\u001b[0;34m\u001b[0m\u001b[0;34m\u001b[0m\u001b[0m\n\u001b[0;32m----> 9\u001b[0;31m \u001b[0mprint\u001b[0m\u001b[0;34m(\u001b[0m\u001b[0;34m\"Z's mean =\"\u001b[0m\u001b[0;34m,\u001b[0m \u001b[0mnp\u001b[0m\u001b[0;34m.\u001b[0m\u001b[0mmean\u001b[0m\u001b[0;34m(\u001b[0m\u001b[0mZ\u001b[0m\u001b[0;34m)\u001b[0m\u001b[0;34m)\u001b[0m\u001b[0;34m\u001b[0m\u001b[0;34m\u001b[0m\u001b[0m\n\u001b[0m\u001b[1;32m     10\u001b[0m \u001b[0mprint\u001b[0m\u001b[0;34m(\u001b[0m\u001b[0;34m\"Z[3,2,1] =\"\u001b[0m\u001b[0;34m,\u001b[0m \u001b[0mZ\u001b[0m\u001b[0;34m[\u001b[0m\u001b[0;36m3\u001b[0m\u001b[0;34m,\u001b[0m\u001b[0;36m2\u001b[0m\u001b[0;34m,\u001b[0m\u001b[0;36m1\u001b[0m\u001b[0;34m]\u001b[0m\u001b[0;34m)\u001b[0m\u001b[0;34m\u001b[0m\u001b[0;34m\u001b[0m\u001b[0m\n\u001b[1;32m     11\u001b[0m \u001b[0mprint\u001b[0m\u001b[0;34m(\u001b[0m\u001b[0;34m\"cache_conv[0][1][2][3] =\"\u001b[0m\u001b[0;34m,\u001b[0m \u001b[0mcache_conv\u001b[0m\u001b[0;34m[\u001b[0m\u001b[0;36m0\u001b[0m\u001b[0;34m]\u001b[0m\u001b[0;34m[\u001b[0m\u001b[0;36m1\u001b[0m\u001b[0;34m]\u001b[0m\u001b[0;34m[\u001b[0m\u001b[0;36m2\u001b[0m\u001b[0;34m]\u001b[0m\u001b[0;34m[\u001b[0m\u001b[0;36m3\u001b[0m\u001b[0;34m]\u001b[0m\u001b[0;34m)\u001b[0m\u001b[0;34m\u001b[0m\u001b[0;34m\u001b[0m\u001b[0m\n",
            "\u001b[0;32m<__array_function__ internals>\u001b[0m in \u001b[0;36mmean\u001b[0;34m(*args, **kwargs)\u001b[0m\n",
            "\u001b[0;32m/usr/local/lib/python3.7/dist-packages/numpy/core/fromnumeric.py\u001b[0m in \u001b[0;36mmean\u001b[0;34m(a, axis, dtype, out, keepdims, where)\u001b[0m\n\u001b[1;32m   3439\u001b[0m \u001b[0;34m\u001b[0m\u001b[0m\n\u001b[1;32m   3440\u001b[0m     return _methods._mean(a, axis=axis, dtype=dtype,\n\u001b[0;32m-> 3441\u001b[0;31m                           out=out, **kwargs)\n\u001b[0m\u001b[1;32m   3442\u001b[0m \u001b[0;34m\u001b[0m\u001b[0m\n\u001b[1;32m   3443\u001b[0m \u001b[0;34m\u001b[0m\u001b[0m\n",
            "\u001b[0;32m/usr/local/lib/python3.7/dist-packages/numpy/core/_methods.py\u001b[0m in \u001b[0;36m_mean\u001b[0;34m(a, axis, dtype, out, keepdims, where)\u001b[0m\n\u001b[1;32m    177\u001b[0m             \u001b[0mis_float16_result\u001b[0m \u001b[0;34m=\u001b[0m \u001b[0;32mTrue\u001b[0m\u001b[0;34m\u001b[0m\u001b[0;34m\u001b[0m\u001b[0m\n\u001b[1;32m    178\u001b[0m \u001b[0;34m\u001b[0m\u001b[0m\n\u001b[0;32m--> 179\u001b[0;31m     \u001b[0mret\u001b[0m \u001b[0;34m=\u001b[0m \u001b[0mumr_sum\u001b[0m\u001b[0;34m(\u001b[0m\u001b[0marr\u001b[0m\u001b[0;34m,\u001b[0m \u001b[0maxis\u001b[0m\u001b[0;34m,\u001b[0m \u001b[0mdtype\u001b[0m\u001b[0;34m,\u001b[0m \u001b[0mout\u001b[0m\u001b[0;34m,\u001b[0m \u001b[0mkeepdims\u001b[0m\u001b[0;34m,\u001b[0m \u001b[0mwhere\u001b[0m\u001b[0;34m=\u001b[0m\u001b[0mwhere\u001b[0m\u001b[0;34m)\u001b[0m\u001b[0;34m\u001b[0m\u001b[0;34m\u001b[0m\u001b[0m\n\u001b[0m\u001b[1;32m    180\u001b[0m     \u001b[0;32mif\u001b[0m \u001b[0misinstance\u001b[0m\u001b[0;34m(\u001b[0m\u001b[0mret\u001b[0m\u001b[0;34m,\u001b[0m \u001b[0mmu\u001b[0m\u001b[0;34m.\u001b[0m\u001b[0mndarray\u001b[0m\u001b[0;34m)\u001b[0m\u001b[0;34m:\u001b[0m\u001b[0;34m\u001b[0m\u001b[0;34m\u001b[0m\u001b[0m\n\u001b[1;32m    181\u001b[0m         ret = um.true_divide(\n",
            "\u001b[0;31mValueError\u001b[0m: operands could not be broadcast together with shapes (10,4,4,3) (1,1,1,8) "
          ]
        }
      ]
    },
    {
      "cell_type": "code",
      "source": [
        ""
      ],
      "metadata": {
        "id": "bPo5brDkonWT"
      },
      "execution_count": null,
      "outputs": []
    }
  ]
}