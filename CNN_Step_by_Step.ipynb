{
  "nbformat": 4,
  "nbformat_minor": 0,
  "metadata": {
    "colab": {
      "name": "CNN_Step_by_Step.ipynb",
      "provenance": [],
      "collapsed_sections": [],
      "authorship_tag": "ABX9TyNINQxOFI1QLA8aO/Lsbc3K",
      "include_colab_link": true
    },
    "kernelspec": {
      "name": "python3",
      "display_name": "Python 3"
    },
    "language_info": {
      "name": "python"
    }
  },
  "cells": [
    {
      "cell_type": "markdown",
      "metadata": {
        "id": "view-in-github",
        "colab_type": "text"
      },
      "source": [
        "<a href=\"https://colab.research.google.com/github/sftSalman/CNN/blob/main/CNN_Step_by_Step.ipynb\" target=\"_parent\"><img src=\"https://colab.research.google.com/assets/colab-badge.svg\" alt=\"Open In Colab\"/></a>"
      ]
    },
    {
      "cell_type": "code",
      "execution_count": 1,
      "metadata": {
        "id": "xNyVwHk06mxB"
      },
      "outputs": [],
      "source": [
        "import numpy as np\n",
        "import matplotlib.pyplot as plt\n"
      ]
    },
    {
      "cell_type": "code",
      "source": [
        "def zero_pad(X,pad):\n",
        "#pad = np.pad(X,((0,0),(pad,pad),(pad,pad)(0,0)),'constant', constant_values =(0,0))\n",
        "  X_pad = np.pad(X, ((0,0), (pad,pad), (pad,pad), (0,0)), 'constant', constant_values = (0,0))\n",
        "  return X_pad"
      ],
      "metadata": {
        "id": "QqjkWFjz65Yn"
      },
      "execution_count": 2,
      "outputs": []
    },
    {
      "cell_type": "code",
      "source": [
        "x = np.random.randn(4,3,3,2)\n",
        "x_pad = zero_pad(x,2)\n",
        "print(x.shape)\n",
        "print(x_pad.shape)"
      ],
      "metadata": {
        "colab": {
          "base_uri": "https://localhost:8080/"
        },
        "id": "4ORujUl27z4y",
        "outputId": "cbcedddf-ce2f-4760-bba6-1294f334ffc5"
      },
      "execution_count": 3,
      "outputs": [
        {
          "output_type": "stream",
          "name": "stdout",
          "text": [
            "(4, 3, 3, 2)\n",
            "(4, 7, 7, 2)\n"
          ]
        }
      ]
    },
    {
      "cell_type": "code",
      "source": [
        "%matplotlib inline\n",
        "plt.rcParams['figure.figsize'] = (5.0, 4.0) # set default size of plots\n",
        "plt.rcParams['image.interpolation'] = 'nearest'\n",
        "plt.rcParams['image.cmap'] = 'gray'\n",
        "\n",
        "%load_ext autoreload\n",
        "%autoreload 2"
      ],
      "metadata": {
        "id": "bQ28MbDO-sSr"
      },
      "execution_count": 4,
      "outputs": []
    },
    {
      "cell_type": "code",
      "source": [
        "fig , ax = plt.subplots(1,2)\n",
        "ax[0].set_title('x')\n",
        "ax[0].imshow(x[0,:,:,0])\n",
        "ax[1].imshow(x_pad[0,:,:,0])"
      ],
      "metadata": {
        "colab": {
          "base_uri": "https://localhost:8080/",
          "height": 211
        },
        "id": "0zDkc7bn82PT",
        "outputId": "78c03273-5362-44f5-e30b-dd6921e3faac"
      },
      "execution_count": 5,
      "outputs": [
        {
          "output_type": "execute_result",
          "data": {
            "text/plain": [
              "<matplotlib.image.AxesImage at 0x7fdb887f0350>"
            ]
          },
          "metadata": {},
          "execution_count": 5
        },
        {
          "output_type": "display_data",
          "data": {
            "text/plain": [
              "<Figure size 360x288 with 2 Axes>"
            ],
            "image/png": "[encoded data removed]"
          },
          "metadata": {
            "needs_background": "light"
          }
        }
      ]
    },
    {
      "cell_type": "code",
      "source": [
        "print('hi')"
      ],
      "metadata": {
        "colab": {
          "base_uri": "https://localhost:8080/"
        },
        "id": "2W-nCFmo9tcH",
        "outputId": "a1f452d0-8a97-496d-8b20-b9fb0873248e"
      },
      "execution_count": 6,
      "outputs": [
        {
          "output_type": "stream",
          "name": "stdout",
          "text": [
            "hi\n"
          ]
        }
      ]
    },
    {
      "cell_type": "code",
      "source": [
        "def conv_single_step(a_slice_prev,W,b):\n",
        "  s = np.multiply(a_slice_prev,W)\n",
        "  Z = np.sum(s)\n",
        "  Z = Z+b\n",
        "  return Z "
      ],
      "metadata": {
        "id": "X06NssaeLcHK"
      },
      "execution_count": 7,
      "outputs": []
    },
    {
      "cell_type": "code",
      "source": [
        "np.random.seed(3)\n",
        "a_slice_prev = np.random.randn(4, 4, 3)\n",
        "W = np.random.randn(4, 4, 3)\n",
        "b = np.random.randn(1, 1, 1)\n",
        "\n",
        "Z = conv_single_step(a_slice_prev, W, b)\n",
        "print(\"Z =\", Z)"
      ],
      "metadata": {
        "colab": {
          "base_uri": "https://localhost:8080/"
        },
        "id": "l00LAPSgF7OH",
        "outputId": "2693d3bc-afd6-4330-d893-ee5e064d7d16"
      },
      "execution_count": 8,
      "outputs": [
        {
          "output_type": "stream",
          "name": "stdout",
          "text": [
            "Z = [[[4.74084236]]]\n"
          ]
        }
      ]
    },
    {
      "cell_type": "code",
      "source": [
        "def conv_forward(A_prev,W,b,hypermaters):\n",
        "  (m,n_H_prev,n_W_prev,n_C_prev)=A_prev.shape\n",
        "  (f,f,n_C_prev,n_C) = W.shape\n",
        "\n",
        "  stride = hypermaters['stride']\n",
        "  pad = hypermaters['pad']\n",
        "\n",
        "  n_H = int((n_H_prev - f + 2 * pad) / stride + 1)\n",
        "  n_W = int((n_W_prev - f + 2 * pad) / stride + 1) \n",
        "\n",
        "  Z = np.zeros((m, n_H, n_W, n_C))\n",
        "\n",
        "  A_prev_pad = zero_pad(A_prev, pad)\n",
        "  for i range(m):\n",
        "    for h in range(n_H):\n",
        "      for w in range(n_W):\n",
        "        for c in range(n_C):\n",
        "          vert_start = h \n",
        "          vert_end = vert_start + f \n",
        "          horiz_start = w \n",
        "          horiz_end = horiz_start + f\n",
        "          a_slice_prev = A_prev_pad[vert_start:vert_end,horiz_start:horiz_end,:]\n",
        "          z[i,h,w,c] = conv_single_step(a_slice_prev,w[:,:,:,:])\n",
        "\n",
        "\n",
        "  "
      ],
      "metadata": {
        "id": "XqnpI3gjGpEb"
      },
      "execution_count": 9,
      "outputs": []
    },
    {
      "cell_type": "code",
      "source": [
        "print('hi')"
      ],
      "metadata": {
        "id": "7xMOEYqG_UDJ"
      },
      "execution_count": null,
      "outputs": []
    },
    {
      "cell_type": "code",
      "source": [
        ""
      ],
      "metadata": {
        "id": "VJp8EsIP_Wuc"
      },
      "execution_count": null,
      "outputs": []
    }
  ]
}